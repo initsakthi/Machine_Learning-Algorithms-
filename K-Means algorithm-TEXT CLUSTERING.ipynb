{
 "cells": [
  {
   "cell_type": "code",
   "execution_count": null,
   "id": "949451d3",
   "metadata": {},
   "outputs": [],
   "source": [
    "# Numerical Data Clustering:\n",
    "import numpy as np\n",
    "from sklearn.cluster import KMeans\n",
    "import matplotlib.pyplot as plt\n",
    "\n",
    "# Custom data: height (in cm) and weight (in kg)\n",
    "data = np.array([\n",
    "    [160, 55], [165, 60], [170, 65], [175, 70], [180, 75],\n",
    "    [160, 58], [165, 63], [170, 48], [175, 73], [180, 78]\n",
    "])\n",
    "\n",
    "# Apply K-Means clustering\n",
    "kmeans = KMeans(n_clusters=2, random_state=0).fit(data)\n",
    "labels = kmeans.labels_\n",
    "\n",
    "# Plot the clusters\n",
    "plt.scatter(data[:, 0], data[:, 1], c=labels, cmap='viridis')\n",
    "plt.xlabel('Height (cm)')\n",
    "plt.ylabel('Weight (kg)')\n",
    "plt.title('K-Means Clustering on Height & Weight')\n",
    "plt.show()\n",
    "\n",
    "2. Text Data Clustering:\n",
    "from sklearn.feature_extraction.text import TfidfVectorizer\n",
    "from sklearn.cluster import KMeans\n",
    "\n",
    "# New custom text data\n",
    "documents = [\n",
    "    \"Apples and oranges are delicious fruits.\",\n",
    "    \"I love eating bananas and strawberries.\",\n",
    "    \"Grapes are sweet and make a great snack.\",\n",
    "    \"The cat chased the mouse around the house.\",\n",
    "    \"Dogs are loyal and make great pets.\",\n",
    "    \"My pet bird sings beautifully in the morning.\"\n",
    "]\n",
    "\n",
    "# Convert text to TF-IDF features and apply K-Means clustering\n",
    "X = TfidfVectorizer(stop_words='english').fit_transform(documents)\n",
    "labels = KMeans(n_clusters=2, random_state=0).fit_predict(X)\n",
    "\n",
    "\n",
    "# Display results\n",
    "for i, doc in enumerate(documents):\n",
    "    print(f\"Document {i}: {doc} -> Cluster {labels[i]}\")\n"
   ]
  }
 ],
 "metadata": {
  "language_info": {
   "name": "python"
  }
 },
 "nbformat": 4,
 "nbformat_minor": 5
}
