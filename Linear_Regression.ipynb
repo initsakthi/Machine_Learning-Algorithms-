{
 "cells": [
  {
   "cell_type": "code",
   "execution_count": null,
   "id": "f1c11a54",
   "metadata": {},
   "outputs": [],
   "source": [
    "import pandas as pd\n",
    "import numpy as np\n",
    "import matplotlib.pyplot as plt\n",
    "\n",
    "dataFrame = pd.read_csv('Age_Income.csv')\n",
    "age = dataFrame['Age']\n",
    "income = dataFrame['Income']\n",
    "# number of points\n",
    "num = np.size(age)\n",
    "# To find the mean of age and income vector\n",
    "mean_age = np.mean(age)\n",
    "mean_income = np.mean(income)\n",
    "# calculating cross-deviation and deviation about age\n",
    "CD_ageincome = np.sum(income*age) - num*mean_income*mean_age\n",
    "CD_ageage = np.sum(age*age) - num*mean_age*mean_age\n",
    "# calculating regression coefficients\n",
    "b1 = CD_ageincome / CD_ageage\n",
    "b0 = mean_income - b1*mean_age\n",
    "# to display coefficients\n",
    "print(\"Estimated Coefficients :\")\n",
    "print(\"b0 = \",b0,\"\\nb1 = \",b1)\n",
    "# To plot the actual points as scatter plot\n",
    "plt.scatter(age, income, color = \"b\",marker = \"o\")\n",
    "# To predict response vector\n",
    "response_Vec = b0 + b1*age\n",
    "# To plot the regression line\n",
    "plt.plot(age, response_Vec, color = \"r\")\n",
    "# Placing labels\n",
    "plt.xlabel('Age')\n",
    "plt.ylabel('Income')\n",
    "# To display plot\n",
    "plt.show()\n"
   ]
  }
 ],
 "metadata": {
  "language_info": {
   "name": "python"
  }
 },
 "nbformat": 4,
 "nbformat_minor": 5
}
