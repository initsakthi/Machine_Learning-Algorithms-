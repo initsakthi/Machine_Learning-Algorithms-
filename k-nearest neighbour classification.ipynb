{
 "cells": [
  {
   "cell_type": "code",
   "execution_count": null,
   "id": "227198e8",
   "metadata": {},
   "outputs": [],
   "source": [
    "# Import necessary modules\n",
    "from sklearn.neighbors import KNeighborsClassifier\n",
    "from sklearn.model_selection import train_test_split\n",
    "from sklearn.datasets import load_iris\n",
    "import random\n",
    "\n",
    "# Loading data\n",
    "data_iris = load_iris()\n",
    "# To get list of target names\n",
    "label_target = data_iris.target_names\n",
    "print()\n",
    "print(\"Sample Data from Iris Dataset\")\n",
    "print(\"*\"*30)\n",
    "# to display the sample data from the iris dataset\n",
    "for i in range(10):\n",
    "\trn = random.randint(0,120)\n",
    "\tprint(data_iris.data[rn],\"===>\",label_target[data_iris.target[rn]])\n",
    "\n",
    "# Create feature and target arrays\n",
    "X = data_iris.data\n",
    "y = data_iris.target\n",
    "\n",
    "# Split into training and test set\n",
    "X_train, X_test, y_train, y_test = train_test_split(\n",
    "\t\t\tX, y, test_size = 0.3, random_state=1)\n",
    "\n",
    "print(\"The Training dataset length: \",len(X_train))\n",
    "print(\"The Testing dataset length: \",len(X_test))\n",
    "try:\n",
    "\tnn = int(input(\"Enter number of neighbors :\"))\n",
    "\tknn = KNeighborsClassifier(nn)\n",
    "\t\n",
    "\tknn.fit(X_train, y_train)\n",
    "\t# to display the score\n",
    "\tprint(\"The Score is :\",knn.score(X_test, y_test))\n",
    "\t# To get test data from the user\n",
    "\ttest_data = input(\"Enter Test Data :\").split(\",\")\n",
    "\tfor i in range(len(test_data)):\n",
    "\t\ttest_data[i] = float(test_data[i])\n",
    "\tprint()\n",
    "\n",
    "\tv = knn.predict([test_data])\n",
    "\tprint(\"Predicted output is :\",label_target[v])\n",
    "except:\n",
    "\tprint(\"Please supply valid input......\")\n"
   ]
  }
 ],
 "metadata": {
  "language_info": {
   "name": "python"
  }
 },
 "nbformat": 4,
 "nbformat_minor": 5
}
