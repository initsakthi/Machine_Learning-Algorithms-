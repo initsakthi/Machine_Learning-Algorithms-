{
 "cells": [
  {
   "cell_type": "code",
   "execution_count": null,
   "id": "c2529f19",
   "metadata": {},
   "outputs": [],
   "source": [
    "from sklearn.tree import DecisionTreeClassifier, DecisionTreeRegressor\n",
    "\n",
    "# ---- Classification: Pass or Fail ----\n",
    "\n",
    "# Dataset: [Marks in Subject1, Marks in Subject2]\n",
    "# Labels: [0 (Fail), 1 (Pass)]\n",
    "X_class = [[35, 40], [30, 42], [50, 55], [70, 80], [85, 90], [60, 65]]\n",
    "y_class = [0, 0, 1, 1, 1, 1]  # 0 = Fail, 1 = Pass\n",
    "\n",
    "# Create a Decision Tree Classifier\n",
    "clf = DecisionTreeClassifier()\n",
    "clf.fit(X_class, y_class)\n",
    "\n",
    "# Predict Pass (1) or Fail (0) for a new student with scores 60 and 70\n",
    "prediction_class = clf.predict([[60, 70]])\n",
    "print(f\"Classification (Pass/Fail): {prediction_class[0]}\")  # Output: 1 (Pass)\n",
    "\n",
    "# ---- Regression: Predict Marks ----\n",
    "\n",
    "# Dataset: [Hours of Study, Marks in Subject1]\n",
    "# Target: Marks in Subject2\n",
    "X_reg = [[1, 35], [2, 42], [3, 55], [4, 80], [5, 90], [6, 65]]\n",
    "y_reg = [40, 42, 50, 75, 85, 70]  # Target is marks in Subject2\n",
    "\n",
    "\n",
    "# Create a Decision Tree Regressor\n",
    "reg = DecisionTreeRegressor()\n",
    "reg.fit(X_reg, y_reg)\n",
    "\n",
    "# Predict marks in Subject2 for a student who studied 4 hours and scored 70 in Subject1\n",
    "prediction_reg = reg.predict([[4, 70]])\n",
    "print(f\"Regression (Predicted Marks in Subject2): {prediction_reg[0]:.2f}\")"
   ]
  }
 ],
 "metadata": {
  "language_info": {
   "name": "python"
  }
 },
 "nbformat": 4,
 "nbformat_minor": 5
}
